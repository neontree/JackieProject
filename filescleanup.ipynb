{
 "cells": [
  {
   "cell_type": "code",
   "execution_count": 2,
   "metadata": {},
   "outputs": [],
   "source": [
    "from utils.filescleanup import clean_up\n",
    "\n",
    "clean_up()"
   ]
  },
  {
   "cell_type": "code",
   "execution_count": 6,
   "metadata": {},
   "outputs": [
    {
     "name": "stdout",
     "output_type": "stream",
     "text": [
      "INPUT\n",
      "\n",
      "Hole Depth\n",
      "\n",
      "Rate of Penetration\n",
      "\n",
      "Rotary RPM\n",
      "\n",
      "Rotary Torque\n",
      "\n",
      "Weight on Bit\n",
      "\n",
      "Differential Pressure\n",
      "\n",
      "Inclination\n",
      "\n",
      "OUTPUT\n",
      "\n",
      "Gamma\n"
     ]
    }
   ],
   "source": [
    "location = 'machine_learning/configurationGR'\n",
    "with open(location) as file:\n",
    "    for row in file:\n",
    "        print(row)"
   ]
  },
  {
   "cell_type": "code",
   "execution_count": null,
   "metadata": {},
   "outputs": [],
   "source": [
    "from "
   ]
  }
 ],
 "metadata": {
  "kernelspec": {
   "display_name": "Python 3",
   "language": "python",
   "name": "python3"
  },
  "language_info": {
   "codemirror_mode": {
    "name": "ipython",
    "version": 3
   },
   "file_extension": ".py",
   "mimetype": "text/x-python",
   "name": "python",
   "nbconvert_exporter": "python",
   "pygments_lexer": "ipython3",
   "version": "3.7.6"
  }
 },
 "nbformat": 4,
 "nbformat_minor": 4
}
