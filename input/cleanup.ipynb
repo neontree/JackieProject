{
 "cells": [
  {
   "cell_type": "code",
   "execution_count": 1,
   "metadata": {},
   "outputs": [
    {
     "name": "stdout",
     "output_type": "stream",
     "text": [
      "Cleaning HALL STATE UNIT A1H_Bit 8 75_Mud 14 0.csv.\n",
      "Finished cleaning up.\n",
      "Finish saving.\n",
      "====================================================================================================\n",
      "Cleaning La Muela Quick PSA 1H_Bit 8 75_Mud 13 8.csv.\n",
      "Finished cleaning up.\n",
      "Finish saving.\n",
      "====================================================================================================\n",
      "Cleaning HALL STATE UNIT B2H_Bit 8 75_Mud 14 5.csv.\n",
      "Finished cleaning up.\n",
      "Finish saving.\n",
      "====================================================================================================\n",
      "Cleaning La Muela Quick PSA 3H_Bit 8 75_Mud 13 4.csv.\n",
      "Finished cleaning up.\n",
      "Finish saving.\n",
      "====================================================================================================\n",
      "Cleaning HALL STATE UNIT C3H_Bit 8 75_Mud 14 1.csv.\n",
      "Finished cleaning up.\n",
      "Finish saving.\n",
      "====================================================================================================\n",
      "Cleaning 25509696.csv.\n",
      "Finished cleaning up.\n",
      "Finish saving.\n",
      "====================================================================================================\n",
      "Cleaning La Muela Quick PSA 2H_Bit 8 75_Mud 13 4.csv.\n",
      "Finished cleaning up.\n",
      "Finish saving.\n",
      "====================================================================================================\n"
     ]
    }
   ],
   "source": [
    "import cleanup"
   ]
  },
  {
   "cell_type": "code",
   "execution_count": null,
   "metadata": {},
   "outputs": [],
   "source": []
  },
  {
   "cell_type": "code",
   "execution_count": null,
   "metadata": {},
   "outputs": [],
   "source": []
  },
  {
   "cell_type": "code",
   "execution_count": null,
   "metadata": {},
   "outputs": [],
   "source": []
  },
  {
   "cell_type": "code",
   "execution_count": null,
   "metadata": {},
   "outputs": [],
   "source": []
  }
 ],
 "metadata": {
  "kernelspec": {
   "display_name": "Python 3",
   "language": "python",
   "name": "python3"
  },
  "language_info": {
   "codemirror_mode": {
    "name": "ipython",
    "version": 3
   },
   "file_extension": ".py",
   "mimetype": "text/x-python",
   "name": "python",
   "nbconvert_exporter": "python",
   "pygments_lexer": "ipython3",
   "version": "3.7.6"
  }
 },
 "nbformat": 4,
 "nbformat_minor": 4
}
